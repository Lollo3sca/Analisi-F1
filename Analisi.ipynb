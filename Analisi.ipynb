{
 "cells": [
  {
   "cell_type": "code",
   "execution_count": 1,
   "id": "8e123296-8ffe-4f9a-9e01-a0287de07582",
   "metadata": {},
   "outputs": [],
   "source": [
    "import csv\n",
    "import pos_converter"
   ]
  },
  {
   "cell_type": "code",
   "execution_count": 2,
   "id": "32188276-f5f9-4b7e-8fbb-05234b7d56d3",
   "metadata": {},
   "outputs": [],
   "source": [
    "def drivers_performance(driver):\n",
    "    # Leggiamo i dati del file CSV, creiamo una lista vuota e assegniamo valore 0 alle variabili che ci serviranno in seguito\n",
    "    with open (\"formula1_data.csv\") as csv_file:\n",
    "        csv_reader = csv.DictReader(csv_file)\n",
    "\n",
    "        analysis = []\n",
    "        somma_pti = 0\n",
    "        n_vittorie = 0\n",
    "        n_podi = 0\n",
    "        \n",
    "        # Iteriamo sul file CSV per ottenere la somma di punti fatta registrare da ogni pilota\n",
    "        for x_driver in csv_reader:\n",
    "            if x_driver[\"Driver\"].lower() == driver.lower():\n",
    "                position = int(x_driver[\"Position\"])\n",
    "                x_punti = pos_converter.points_sistem(position)\n",
    "                somma_pti += x_punti\n",
    "                # Con dei semplici if controlliamo la posizione d'arrivo dei piloti, per poter segnare il numero di podi e vittorie\n",
    "                if position == 1:\n",
    "                    n_vittorie += 1\n",
    "                if position in [1, 2, 3]:\n",
    "                    n_podi +=1\n",
    "        # Con degli append aggiungiamo le variabili trovati ad una lista associata ognuna al proprio pilota            \n",
    "        analysis.append(somma_pti)\n",
    "        analysis.append(n_vittorie)\n",
    "        analysis.append(n_podi)\n",
    "        \n",
    "        return analysis"
   ]
  },
  {
   "cell_type": "code",
   "execution_count": 4,
   "id": "615e0672-437f-4b49-9412-dd89034406ce",
   "metadata": {},
   "outputs": [],
   "source": [
    "def drivers_standings():\n",
    "   # Leggiamo i dati del file CSV e creiamo un dizionario vuoto\n",
    "    with open (\"formula1_data.csv\") as csv_file:\n",
    "        csv_reader = csv.DictReader(csv_file)\n",
    "\n",
    "        driver_points = {}\n",
    "\n",
    "        # Iteriamo per ottenere dal file CSV pilota e posizione in ogni gara\n",
    "        for row in csv_reader:\n",
    "            driver = row[\"Driver\"]\n",
    "            position = int(row[\"Position\"])\n",
    "\n",
    "            # Calcoliamo i punti guadagnati per posizione\n",
    "            points = pos_converter.points_sistem(position)\n",
    "\n",
    "            # Aggiungiamo i piloti con i relativi punti al dizionario se non presenti, altrimenti aggiungiamo i soli punti ai valori di ogni pilota\n",
    "            if driver in driver_points:\n",
    "                driver_points[driver] += points\n",
    "            else:\n",
    "                driver_points[driver] = points\n",
    "\n",
    "        # Creiamo un file TXT in cui andremo ad inserire la classifica di F1 del 2008\n",
    "        with open (\"Drivers_Standings_2008.txt\", \"w\", newline=\"\") as standings_file:\n",
    "            standings_file.write(\"Drivers Standings 2008 Formula 1\")\n",
    "            for name, points in driver_points.items():\n",
    "                standings_file.write(f\"\\n {name}: {points}\")"
   ]
  },
  {
   "cell_type": "code",
   "execution_count": 19,
   "id": "1feebe56-905c-417b-af85-1c272205c988",
   "metadata": {},
   "outputs": [],
   "source": [
    "def constructor_standings():\n",
    "    # Leggiamo i dati del file CSV e creiamo un dizionario vuoto\n",
    "    with open (\"formula1_data.csv\") as csv_file:\n",
    "        csv_reader = csv.DictReader(csv_file)\n",
    "    \n",
    "        team_points = {}\n",
    "        # Facciamo un ciclo for sulle righe del file CSV per ottenere solo ciò che ci interessa\n",
    "        for row in csv_reader:\n",
    "            team = row[\"Team\"]\n",
    "            position = int(row[\"Position\"])\n",
    "\n",
    "            # Calcoliamo i punti guadagnati per posizione\n",
    "            points = pos_converter.points_sistem(position)\n",
    "\n",
    "            # Aggiungiamo i team con i relativi punti al dizionario se non presenti, altrimenti aggiungiamo i soli punti ai valori di ogni team\n",
    "            if team in team_points:\n",
    "                team_points[team] += points\n",
    "            else:\n",
    "                team_points[team] = points\n",
    "\n",
    "    ordinated_team_points = dict(sorted(team_points.items(), key=lambda x: x[1], reverse=True))\n",
    "\n",
    "     # Creiamo un file TXT in cui andremo ad inserire la classifica di F1 del 2008\n",
    "    with open (\"Constructor_Standings_2008.txt\", \"w\", newline=\"\") as constructor_file:\n",
    "        constructor_file.write(\"Constructor Standings 2008 Formula 1\")\n",
    "        for team, points in ordinated_team_points.items():\n",
    "            constructor_file.write(f\"\\n {team}: {points}\")    "
   ]
  },
  {
   "cell_type": "code",
   "execution_count": null,
   "id": "616d66fc-4f03-423b-a92a-47ae23563a26",
   "metadata": {},
   "outputs": [],
   "source": []
  },
  {
   "cell_type": "code",
   "execution_count": null,
   "id": "4f2021ff-0a97-4bf8-93f8-1c7bbbd2307a",
   "metadata": {},
   "outputs": [],
   "source": []
  },
  {
   "cell_type": "code",
   "execution_count": null,
   "id": "767625a3-7eee-417b-bfe5-5bfcbf3d7292",
   "metadata": {},
   "outputs": [],
   "source": []
  }
 ],
 "metadata": {
  "kernelspec": {
   "display_name": "Python 3 (ipykernel)",
   "language": "python",
   "name": "python3"
  },
  "language_info": {
   "codemirror_mode": {
    "name": "ipython",
    "version": 3
   },
   "file_extension": ".py",
   "mimetype": "text/x-python",
   "name": "python",
   "nbconvert_exporter": "python",
   "pygments_lexer": "ipython3",
   "version": "3.11.7"
  }
 },
 "nbformat": 4,
 "nbformat_minor": 5
}
